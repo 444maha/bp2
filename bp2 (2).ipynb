{
 "cells": [
  {
   "cell_type": "code",
   "execution_count": null,
   "id": "6050b055-a032-4266-82c9-9f8ab553364a",
   "metadata": {},
   "outputs": [],
   "source": [
    "'''while syntax\n",
    "while condition/boolean:\n",
    "stmt\n",
    "stm2\n",
    ".\n",
    ".\n",
    "\n",
    "stmt n\n",
    "initialize\n",
    "codition check\n",
    "increment/decrement\n"
   ]
  },
  {
   "cell_type": "code",
   "execution_count": null,
   "id": "567f17ef-4fd3-41ca-967e-1f2b9f07b47a",
   "metadata": {},
   "outputs": [],
   "source": [
    "loop=0\n",
    "while loop<=10:\n",
    "    print(loop,end=' ')\n",
    "    loop+=1\n"
   ]
  },
  {
   "cell_type": "code",
   "execution_count": null,
   "id": "721f2327-dcbe-4799-b2e4-e98a6a79c8cb",
   "metadata": {},
   "outputs": [],
   "source": [
    "loop=0\n",
    "while loop<=10:\n",
    "    print(loop)\n",
    "    loop+=1"
   ]
  },
  {
   "cell_type": "code",
   "execution_count": null,
   "id": "2018a0e3-c6cd-440c-9869-c2ec06116b05",
   "metadata": {},
   "outputs": [],
   "source": [
    "loop=0\n",
    "while loop<=10:\n",
    "    print('maha',end=' ')\n",
    "    loop+=1"
   ]
  },
  {
   "cell_type": "code",
   "execution_count": null,
   "id": "f9161a90-8cce-4fa0-a616-363a2729816c",
   "metadata": {},
   "outputs": [],
   "source": [
    "loop=0\n",
    "while loop<10:\n",
    "    print('maha',end=' ')\n",
    "    loop+=1"
   ]
  },
  {
   "cell_type": "code",
   "execution_count": null,
   "id": "63d60127-9fca-4077-8fcf-6ba91ef229f0",
   "metadata": {},
   "outputs": [],
   "source": [
    "loop=0\n",
    "while loop<10:\n",
    "    print('maha',end=' ')\n",
    "    print('lakshmi',end=' ')\n",
    "    loop+=1\n",
    "print(\"looping over as condition fails\")"
   ]
  },
  {
   "cell_type": "code",
   "execution_count": null,
   "id": "4a9bc43c-720c-468e-9d7e-0414e049359a",
   "metadata": {},
   "outputs": [],
   "source": [
    "#print all the even numbers till 20 using while loop\n",
    "n=int(input(\"enter the value of n\"))\n",
    "i=1\n",
    "while i<=n:\n",
    "    if i%2==0:\n",
    "      print(i,end=' ')\n",
    "    i+=1"
   ]
  },
  {
   "cell_type": "code",
   "execution_count": null,
   "id": "c7c7032f-c6ab-460b-8e26-e9318ead9914",
   "metadata": {},
   "outputs": [],
   "source": [
    "#print all the odd numbers till 20 using while loop\n",
    "n=int(input(\"enter the value of n\"))\n",
    "i=1\n",
    "while i<=n:\n",
    "    if i%2!=0:\n",
    "      print(i,end=' ')\n",
    "    i+=1"
   ]
  },
  {
   "cell_type": "code",
   "execution_count": null,
   "id": "bbe57fb8-4948-4251-809d-c991d9e94ebc",
   "metadata": {},
   "outputs": [],
   "source": [
    "#print the sum of first n natural numbers n=10,o/p=55\n",
    "sum=0\n",
    "i=1\n",
    "n=int(input(\"enter the value of n:\"))\n",
    "while i<=n:\n",
    "    sum+=i\n",
    "    i+=1\n",
    "print(\"total:\",sum)\n",
    "        "
   ]
  },
  {
   "cell_type": "code",
   "execution_count": 5,
   "id": "bff54945-0db9-456e-affb-069d38069fa2",
   "metadata": {},
   "outputs": [
    {
     "name": "stdin",
     "output_type": "stream",
     "text": [
      "enter the value of n: 5\n"
     ]
    },
    {
     "name": "stdout",
     "output_type": "stream",
     "text": [
      "5 4 3 2 1 0\n"
     ]
    }
   ],
   "source": [
    "# write  program to print reverse of a  natural numbers n=5\n",
    "n=int(input(\"enter the value of n:\"))\n",
    "i=n\n",
    "while i>=1:\n",
    "   print(i,end=' ')\n",
    "   i-=1\n",
    "print(i)\n"
   ]
  },
  {
   "cell_type": "code",
   "execution_count": 9,
   "id": "17b4a2ba-b24f-4454-82d7-6ef63ed73f41",
   "metadata": {},
   "outputs": [
    {
     "name": "stdin",
     "output_type": "stream",
     "text": [
      "enter the value of n: 4562\n"
     ]
    },
    {
     "name": "stdout",
     "output_type": "stream",
     "text": [
      "4562\n",
      "2654\n"
     ]
    }
   ],
   "source": [
    " #program to everse a digit number : i/p=4562 o/p=2654\n",
    "num=int(input(\"enter the value of n:\"))\n",
    "rev=0\n",
    "print(num)\n",
    "while num>0:#num!=0\n",
    "    d=num%10\n",
    "    rev=rev*10+d\n",
    "    num//=10\n",
    "print(rev)\n",
    "\n",
    "\n"
   ]
  },
  {
   "cell_type": "code",
   "execution_count": 15,
   "id": "2361acf9-a28e-4565-ab21-ea96111e37be",
   "metadata": {},
   "outputs": [
    {
     "name": "stdout",
     "output_type": "stream",
     "text": [
      "2 7 5 6 "
     ]
    }
   ],
   "source": [
    "n=6572    \n",
    "  t=n%10\n",
    "  print(t,end=' ')\n",
    "  n//=10"
   ]
  },
  {
   "cell_type": "code",
   "execution_count": 25,
   "id": "5d31e30c-0b13-4961-ae53-f529caec4963",
   "metadata": {},
   "outputs": [
    {
     "name": "stdout",
     "output_type": "stream",
     "text": [
      "10 11 12 13 14 15 "
     ]
    }
   ],
   "source": [
    "'''for udv in udv\n",
    "   stmt1\n",
    "   stmt2'''\n",
    "n=15\n",
    "for i in range(10, n+1):\n",
    "    print(i,end=' ')\n",
    "\n"
   ]
  },
  {
   "cell_type": "code",
   "execution_count": 29,
   "id": "3edce38a-bff2-4071-ae46-74408f76f117",
   "metadata": {},
   "outputs": [
    {
     "name": "stdout",
     "output_type": "stream",
     "text": [
      "1 4 7 10 13 "
     ]
    }
   ],
   "source": [
    "n=15\n",
    "for i in range(1, n+1,3):\n",
    "    print(i,end=' ')\n"
   ]
  },
  {
   "cell_type": "code",
   "execution_count": 39,
   "id": "80f86558-bc57-452a-bdc1-96ecfcfbd5f5",
   "metadata": {},
   "outputs": [
    {
     "name": "stdout",
     "output_type": "stream",
     "text": [
      "m-i-s-s-i-s-s-i-p-p-i-"
     ]
    }
   ],
   "source": [
    "#for loop using strings\n",
    "name='mississippi'\n",
    "for char in name:\n",
    "    print(char,end='-')"
   ]
  },
  {
   "cell_type": "code",
   "execution_count": 41,
   "id": "34df4ba2-85ff-4f57-8084-b571af28bd16",
   "metadata": {},
   "outputs": [
    {
     "name": "stdout",
     "output_type": "stream",
     "text": [
      "kitkat\n",
      "lays\n",
      "lolipop\n",
      "5-star\n"
     ]
    }
   ],
   "source": [
    "#lists in for-loop\n",
    "items=['kitkat','lays','lolipop','5-star']\n",
    "for sale in items:\n",
    "    print(sale)\n",
    "    \n"
   ]
  },
  {
   "cell_type": "code",
   "execution_count": 43,
   "id": "1e269cc1-66bb-434b-8fb2-147aaf13afaa",
   "metadata": {},
   "outputs": [
    {
     "name": "stdout",
     "output_type": "stream",
     "text": [
      "10 8 6 4 2 "
     ]
    }
   ],
   "source": [
    "#reverse n numbers for -loop\n",
    "for i in range(10,0,-2):\n",
    "    print(i,end=' ')"
   ]
  },
  {
   "cell_type": "code",
   "execution_count": 47,
   "id": "0c6cfc46-e959-414d-84e5-01d76b1efa66",
   "metadata": {},
   "outputs": [
    {
     "name": "stdout",
     "output_type": "stream",
     "text": [
      "10 8 6 4 2 0 -2 "
     ]
    }
   ],
   "source": [
    "#reverse n numbers for -loop\n",
    "for i in range(10,-3,-2):\n",
    "    print(i,end=' ')"
   ]
  },
  {
   "cell_type": "code",
   "execution_count": 2,
   "id": "618ba286-7b29-45ba-b0d9-a75fa1241cd9",
   "metadata": {},
   "outputs": [
    {
     "name": "stdout",
     "output_type": "stream",
     "text": [
      "1 4 9 16 25 36 49 64 81 100 "
     ]
    }
   ],
   "source": [
    "# 4 9 16 25 49 64 8 100\n",
    "for i in range(1,11):\n",
    "    print(i**2,end=' ')\n"
   ]
  },
  {
   "cell_type": "code",
   "execution_count": null,
   "id": "e6efccf8-cc5b-44b1-89f4-25a08144e683",
   "metadata": {},
   "outputs": [],
   "source": [
    "#factoial\n",
    "n=int(input(\"enter the n value:\"))\n",
    "if n==0:\n",
    "    f=1\n",
    "f=1\n",
    "for i in range(1,n+1):\n",
    "    f=f*i\n",
    "    print(\"factorial of\",n,\"is\",f)"
   ]
  },
  {
   "cell_type": "code",
   "execution_count": null,
   "id": "2d1b5b7e-2f92-4eb9-b359-095c5be55b2f",
   "metadata": {},
   "outputs": [],
   "source": []
  }
 ],
 "metadata": {
  "kernelspec": {
   "display_name": "Python 3 (ipykernel)",
   "language": "python",
   "name": "python3"
  },
  "language_info": {
   "codemirror_mode": {
    "name": "ipython",
    "version": 3
   },
   "file_extension": ".py",
   "mimetype": "text/x-python",
   "name": "python",
   "nbconvert_exporter": "python",
   "pygments_lexer": "ipython3",
   "version": "3.12.7"
  }
 },
 "nbformat": 4,
 "nbformat_minor": 5
}
